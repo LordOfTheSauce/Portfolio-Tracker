{
 "cells": [
  {
   "cell_type": "code",
   "execution_count": 1,
   "metadata": {},
   "outputs": [],
   "source": [
    "from stock import *\n",
    "from portfolio import *\n",
    "from input import *"
   ]
  },
  {
   "cell_type": "code",
   "execution_count": null,
   "metadata": {},
   "outputs": [],
   "source": [
    "startrow = 10\n",
    "startcoulumn = \"C\"\n",
    "Filename = \"GCI Positions (Live).xlsx\"\n",
    "sheet_name = \"GCI Portfolio\"\n",
    "portfolio = read_stocks_from_excel(Filename,sheet_name,startrow,startcoulumn)\n",
    "portfolio.print_stocks()\n",
    "portfolio.summary()"
   ]
  }
 ],
 "metadata": {
  "kernelspec": {
   "display_name": "base",
   "language": "python",
   "name": "python3"
  },
  "language_info": {
   "codemirror_mode": {
    "name": "ipython",
    "version": 3
   },
   "file_extension": ".py",
   "mimetype": "text/x-python",
   "name": "python",
   "nbconvert_exporter": "python",
   "pygments_lexer": "ipython3",
   "version": "3.9.12"
  }
 },
 "nbformat": 4,
 "nbformat_minor": 2
}
